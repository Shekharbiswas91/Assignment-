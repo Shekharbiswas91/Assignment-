{
 "cells": [
  {
   "cell_type": "markdown",
   "id": "ecdab75d",
   "metadata": {},
   "source": [
    "## Report prepare by Shekhar Biswas , biswassh91@gmmail.com"
   ]
  },
  {
   "cell_type": "markdown",
   "id": "bec23d2f",
   "metadata": {},
   "source": [
    "# 1. What does an empty dictionary's code look like?"
   ]
  },
  {
   "cell_type": "code",
   "execution_count": 1,
   "id": "86805ec6",
   "metadata": {},
   "outputs": [],
   "source": [
    "myDictonary={}"
   ]
  },
  {
   "cell_type": "code",
   "execution_count": 2,
   "id": "53c752a3",
   "metadata": {},
   "outputs": [
    {
     "data": {
      "text/plain": [
       "{}"
      ]
     },
     "execution_count": 2,
     "metadata": {},
     "output_type": "execute_result"
    }
   ],
   "source": [
    "myDictonary"
   ]
  },
  {
   "cell_type": "code",
   "execution_count": 3,
   "id": "a632dea7",
   "metadata": {},
   "outputs": [
    {
     "name": "stdout",
     "output_type": "stream",
     "text": [
      "{}\n"
     ]
    }
   ],
   "source": [
    "print(myDictonary)"
   ]
  },
  {
   "cell_type": "code",
   "execution_count": 4,
   "id": "a925f1be",
   "metadata": {},
   "outputs": [
    {
     "data": {
      "text/plain": [
       "dict"
      ]
     },
     "execution_count": 4,
     "metadata": {},
     "output_type": "execute_result"
    }
   ],
   "source": [
    "type(myDictonary)"
   ]
  },
  {
   "cell_type": "markdown",
   "id": "e0bf31e0",
   "metadata": {},
   "source": [
    "# 2. What is the value of a dictionary value with the key 'foo' and the value 42?"
   ]
  },
  {
   "cell_type": "code",
   "execution_count": 5,
   "id": "0fe9b7df",
   "metadata": {},
   "outputs": [
    {
     "data": {
      "text/plain": [
       "{'foo': 42}"
      ]
     },
     "execution_count": 5,
     "metadata": {},
     "output_type": "execute_result"
    }
   ],
   "source": [
    "{'foo':42}"
   ]
  },
  {
   "cell_type": "markdown",
   "id": "cb110c8c",
   "metadata": {},
   "source": [
    "# 3. What is the most significant distinction between a dictionary and a list?"
   ]
  },
  {
   "cell_type": "code",
   "execution_count": null,
   "id": "444dc76f",
   "metadata": {},
   "outputs": [],
   "source": [
    "item stored in a dictonary is unordered , where item in a ist are ordered "
   ]
  },
  {
   "cell_type": "markdown",
   "id": "cb950ddc",
   "metadata": {},
   "source": [
    "# 4. What happens if you try to access spam['foo'] if spam is {'bar': 100}?"
   ]
  },
  {
   "cell_type": "code",
   "execution_count": null,
   "id": "06a56635",
   "metadata": {},
   "outputs": [],
   "source": [
    "For this case error will be occured "
   ]
  },
  {
   "cell_type": "markdown",
   "id": "f1aad3ad",
   "metadata": {},
   "source": [
    "# 5. If a dictionary is stored in spam, what is the difference between the expressions 'cat' in spam and 'cat' in spam.keys()?"
   ]
  },
  {
   "cell_type": "code",
   "execution_count": null,
   "id": "c7b27103",
   "metadata": {},
   "outputs": [],
   "source": [
    "NO difference in this statement "
   ]
  },
  {
   "cell_type": "markdown",
   "id": "50c9b5ef",
   "metadata": {},
   "source": [
    "# 6. If a dictionary is stored in spam, what is the difference between the expressions 'cat' in spam and 'cat' in spam.values()?"
   ]
  },
  {
   "cell_type": "markdown",
   "id": "2fe82b42",
   "metadata": {},
   "source": [
    "'cat' in spam checks whether there is a 'cat' in spam.values() \n",
    "checks wheather there is a value 'cat' for one of the keys in spam "
   ]
  },
  {
   "cell_type": "markdown",
   "id": "dceac475",
   "metadata": {},
   "source": [
    "# 7. What is a shortcut for the following code?\n",
    "if 'color' not in spam:\n",
    "spam['color'] = 'black'\n"
   ]
  },
  {
   "cell_type": "markdown",
   "id": "90c510f2",
   "metadata": {},
   "source": [
    "spam.setdefault('color', 'black')\n"
   ]
  },
  {
   "cell_type": "markdown",
   "id": "30c5b6e5",
   "metadata": {},
   "source": [
    "# 8. How do you \"pretty print\" dictionary values using which module and function?"
   ]
  },
  {
   "cell_type": "markdown",
   "id": "c3c9503b",
   "metadata": {},
   "source": [
    "pprint.pprint()"
   ]
  },
  {
   "cell_type": "code",
   "execution_count": null,
   "id": "41aa96b2",
   "metadata": {},
   "outputs": [],
   "source": []
  }
 ],
 "metadata": {
  "kernelspec": {
   "display_name": "Python 3 (ipykernel)",
   "language": "python",
   "name": "python3"
  },
  "language_info": {
   "codemirror_mode": {
    "name": "ipython",
    "version": 3
   },
   "file_extension": ".py",
   "mimetype": "text/x-python",
   "name": "python",
   "nbconvert_exporter": "python",
   "pygments_lexer": "ipython3",
   "version": "3.9.7"
  }
 },
 "nbformat": 4,
 "nbformat_minor": 5
}
