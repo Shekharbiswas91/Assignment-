{
 "cells": [
  {
   "cell_type": "markdown",
   "id": "38487889",
   "metadata": {},
   "source": [
    "## 1.What are the two values of the Boolean data type? How do you write them?"
   ]
  },
  {
   "cell_type": "code",
   "execution_count": null,
   "id": "4baed5bb",
   "metadata": {},
   "outputs": [],
   "source": [
    "True and False "
   ]
  },
  {
   "cell_type": "markdown",
   "id": "d8cd0114",
   "metadata": {},
   "source": [
    "# 2. What are the three different types of Boolean operators?"
   ]
  },
  {
   "cell_type": "code",
   "execution_count": null,
   "id": "3d65ff00",
   "metadata": {},
   "outputs": [],
   "source": [
    "Ans: AND , OR , NOT "
   ]
  },
  {
   "cell_type": "markdown",
   "id": "827fc0f0",
   "metadata": {},
   "source": [
    "# 3. Make a list of each Boolean operator's truth tables (i.e. every possible combination of Boolean values for the operator and what it evaluate )."
   ]
  },
  {
   "cell_type": "code",
   "execution_count": 6,
   "id": "9ac0083a",
   "metadata": {},
   "outputs": [
    {
     "name": "stdout",
     "output_type": "stream",
     "text": [
      " AND Truth Table \n",
      " A= False , B= False \t 0\n",
      " A= False , B= True \t 0\n",
      " A= True , B= False \t 0\n",
      " A= True, B= True \t 1\n"
     ]
    }
   ],
   "source": [
    "# First we make the AND Truth Table\n",
    "print(\" AND Truth Table \")\n",
    "print(\" A= False , B= False \\t\" ,0 and 0)\n",
    "print(\" A= False , B= True \\t\", 0 and 1 )\n",
    "print(\" A= True , B= False \\t\", 1 and 0)\n",
    "print ( \" A= True, B= True \\t\", 1 and 1)\n"
   ]
  },
  {
   "cell_type": "code",
   "execution_count": 15,
   "id": "b3d8fdb0",
   "metadata": {},
   "outputs": [
    {
     "name": "stdout",
     "output_type": "stream",
     "text": [
      " OR Truth Table \n",
      " A= False, B= False\t 0\n",
      " A= False, B= True\t 1\n",
      " A = True, B= False\t 1\n",
      " A = True, B= True\t 1\n"
     ]
    }
   ],
   "source": [
    "print(\" OR Truth Table \")\n",
    "print(\" A= False, B= False\\t\", 0 or 0)\n",
    "print(\" A= False, B= True\\t\",  0 or 1 )\n",
    "print(\" A = True, B= False\\t\", 1 or 0)\n",
    "print(\" A = True, B= True\\t\", 1 or 1)"
   ]
  },
  {
   "cell_type": "code",
   "execution_count": 27,
   "id": "9fe7446b",
   "metadata": {},
   "outputs": [],
   "source": [
    "# Not gate not able to done"
   ]
  },
  {
   "cell_type": "markdown",
   "id": "ea123af2",
   "metadata": {},
   "source": [
    "# 4. What are the values of the following expressions?"
   ]
  },
  {
   "cell_type": "code",
   "execution_count": 31,
   "id": "2a03e75c",
   "metadata": {},
   "outputs": [
    {
     "data": {
      "text/plain": [
       "False"
      ]
     },
     "execution_count": 31,
     "metadata": {},
     "output_type": "execute_result"
    }
   ],
   "source": [
    "(5>4) and (3==5)\n"
   ]
  },
  {
   "cell_type": "code",
   "execution_count": 32,
   "id": "47287e16",
   "metadata": {},
   "outputs": [
    {
     "data": {
      "text/plain": [
       "False"
      ]
     },
     "execution_count": 32,
     "metadata": {},
     "output_type": "execute_result"
    }
   ],
   "source": [
    "not (5>4)"
   ]
  },
  {
   "cell_type": "code",
   "execution_count": 33,
   "id": "e3f62e1a",
   "metadata": {},
   "outputs": [
    {
     "data": {
      "text/plain": [
       "True"
      ]
     },
     "execution_count": 33,
     "metadata": {},
     "output_type": "execute_result"
    }
   ],
   "source": [
    "(5>4) or (3==5)"
   ]
  },
  {
   "cell_type": "code",
   "execution_count": 34,
   "id": "7c2390ce",
   "metadata": {},
   "outputs": [
    {
     "data": {
      "text/plain": [
       "False"
      ]
     },
     "execution_count": 34,
     "metadata": {},
     "output_type": "execute_result"
    }
   ],
   "source": [
    "not((5>4) or (3==5))"
   ]
  },
  {
   "cell_type": "markdown",
   "id": "22542e0f",
   "metadata": {},
   "source": [
    "# 5. What are the six comparison operators?"
   ]
  },
  {
   "cell_type": "code",
   "execution_count": null,
   "id": "c6e416a6",
   "metadata": {},
   "outputs": [],
   "source": [
    "== Equal "
   ]
  },
  {
   "cell_type": "code",
   "execution_count": null,
   "id": "e98e1963",
   "metadata": {},
   "outputs": [],
   "source": [
    "!= Not Equal "
   ]
  },
  {
   "cell_type": "code",
   "execution_count": null,
   "id": "fe8906e9",
   "metadata": {},
   "outputs": [],
   "source": [
    "> Greater than "
   ]
  },
  {
   "cell_type": "code",
   "execution_count": null,
   "id": "3a1e9ff6",
   "metadata": {},
   "outputs": [],
   "source": [
    "< Less than "
   ]
  },
  {
   "cell_type": "code",
   "execution_count": null,
   "id": "7da47786",
   "metadata": {},
   "outputs": [],
   "source": [
    ">= Greater than or Equal to"
   ]
  },
  {
   "cell_type": "code",
   "execution_count": null,
   "id": "f3d1c143",
   "metadata": {},
   "outputs": [],
   "source": [
    "<= Less than or Equal to "
   ]
  },
  {
   "cell_type": "markdown",
   "id": "2fb0c38d",
   "metadata": {},
   "source": [
    "# 6. How do you tell the difference between the equal to and assignment operators?Describe a condition and when you would use one."
   ]
  },
  {
   "cell_type": "code",
   "execution_count": null,
   "id": "a15613fa",
   "metadata": {},
   "outputs": [],
   "source": [
    "\"=\" is a assignment operator,\n",
    "values are assign to variable in right and variable are left "
   ]
  },
  {
   "cell_type": "code",
   "execution_count": null,
   "id": "ff350929",
   "metadata": {},
   "outputs": [],
   "source": [
    "\"==\" is a equal to operator which check the value is equal or not, Logical condition "
   ]
  },
  {
   "cell_type": "markdown",
   "id": "f653753c",
   "metadata": {},
   "source": [
    "# 7. Identify the three blocks in this code:\n",
    "spam = 0\n",
    "if spam == 10:\n",
    "print('eggs')\n",
    "if spam > 5:\n",
    "print('bacon')\n",
    "else:\n",
    "print('ham')\n",
    "print('spam')\n",
    "print('spam')\n"
   ]
  },
  {
   "cell_type": "code",
   "execution_count": 41,
   "id": "6c0c3ecf",
   "metadata": {},
   "outputs": [
    {
     "name": "stdout",
     "output_type": "stream",
     "text": [
      "ham\n",
      "spam\n",
      "bacon\n"
     ]
    }
   ],
   "source": [
    "spam=0\n",
    "if spam ==10:   # Block first \n",
    "    print('eggs')\n",
    "    if spam> 5:    # Block second \n",
    "        print('bacon')\n",
    "else:\n",
    "    print('ham')\n",
    "    print('spam')\n",
    "    print('bacon')"
   ]
  },
  {
   "cell_type": "markdown",
   "id": "85d8f216",
   "metadata": {},
   "source": [
    "#  8 . Write code that prints Hello if 1 is stored in spam, prints Howdy if 2 is stored in spam, and prints Greetings! if anything else is stored in spam."
   ]
  },
  {
   "cell_type": "code",
   "execution_count": 62,
   "id": "bdf426d1",
   "metadata": {},
   "outputs": [
    {
     "name": "stdout",
     "output_type": "stream",
     "text": [
      "2\n",
      "Howdy\n"
     ]
    }
   ],
   "source": [
    "spam=int(input())\n",
    "\n",
    "if spam==1:\n",
    "    print('Hello')\n",
    "elif spam==2:\n",
    "    print('Howdy')\n",
    "else:\n",
    "    print('Greetings')"
   ]
  },
  {
   "cell_type": "markdown",
   "id": "4e100d76",
   "metadata": {},
   "source": [
    "# 9.If your programme is stuck in an endless loop, what keys you’ll press?"
   ]
  },
  {
   "cell_type": "code",
   "execution_count": null,
   "id": "e59c9b96",
   "metadata": {},
   "outputs": [],
   "source": [
    "Ctrl+c "
   ]
  },
  {
   "cell_type": "markdown",
   "id": "9c0c55d9",
   "metadata": {},
   "source": [
    "# 10. How can you tell the difference between break and continue?"
   ]
  },
  {
   "cell_type": "code",
   "execution_count": null,
   "id": "1a6aee6d",
   "metadata": {},
   "outputs": [],
   "source": [
    "The Break statement is break the loop statement "
   ]
  },
  {
   "cell_type": "code",
   "execution_count": null,
   "id": "cd706042",
   "metadata": {},
   "outputs": [],
   "source": [
    "The continue statement is not break the loop statement "
   ]
  },
  {
   "cell_type": "markdown",
   "id": "c4b800b5",
   "metadata": {},
   "source": [
    "# 11. In a for loop, what is the difference between range(10), range(0, 10), and range(0, 10, 1)?"
   ]
  },
  {
   "cell_type": "code",
   "execution_count": 67,
   "id": "c4322473",
   "metadata": {},
   "outputs": [
    {
     "name": "stdout",
     "output_type": "stream",
     "text": [
      "0\n",
      "1\n",
      "2\n",
      "3\n",
      "4\n",
      "5\n",
      "6\n",
      "7\n",
      "8\n",
      "9\n"
     ]
    }
   ],
   "source": [
    "for i in range(10):\n",
    "    print(i)"
   ]
  },
  {
   "cell_type": "code",
   "execution_count": 68,
   "id": "3c0dc33c",
   "metadata": {},
   "outputs": [
    {
     "name": "stdout",
     "output_type": "stream",
     "text": [
      "0\n",
      "1\n",
      "2\n",
      "3\n",
      "4\n",
      "5\n",
      "6\n",
      "7\n",
      "8\n",
      "9\n"
     ]
    }
   ],
   "source": [
    "for i in range(0,10):\n",
    "    print(i)"
   ]
  },
  {
   "cell_type": "code",
   "execution_count": 70,
   "id": "5b39c3a7",
   "metadata": {},
   "outputs": [
    {
     "name": "stdout",
     "output_type": "stream",
     "text": [
      "0\n",
      "2\n",
      "4\n",
      "6\n",
      "8\n"
     ]
    }
   ],
   "source": [
    "for i in range(0,10,2):\n",
    "    print(i)"
   ]
  },
  {
   "cell_type": "markdown",
   "id": "8ced2a43",
   "metadata": {},
   "source": [
    "# 12. Write a short program that prints the numbers 1 to 10 using a for loop. Then write an equivalent program that prints the numbers 1 to 10 using a while loop."
   ]
  },
  {
   "cell_type": "code",
   "execution_count": 5,
   "id": "64d772a1",
   "metadata": {},
   "outputs": [
    {
     "name": "stdout",
     "output_type": "stream",
     "text": [
      "1\n",
      "2\n",
      "3\n",
      "4\n",
      "5\n",
      "6\n",
      "7\n",
      "8\n",
      "9\n",
      "10\n"
     ]
    }
   ],
   "source": [
    "# While Loop \n",
    "input=1\n",
    "while input<=10:\n",
    "    print(input)\n",
    "    input +=1"
   ]
  },
  {
   "cell_type": "code",
   "execution_count": 8,
   "id": "eabdd7b5",
   "metadata": {},
   "outputs": [
    {
     "name": "stdout",
     "output_type": "stream",
     "text": [
      "1\n",
      "2\n",
      "3\n",
      "4\n",
      "5\n",
      "6\n",
      "7\n",
      "8\n",
      "9\n",
      "10\n"
     ]
    }
   ],
   "source": [
    "# For loop \n",
    "for i in range(1,11):\n",
    "    print(i)"
   ]
  },
  {
   "cell_type": "markdown",
   "id": "b52be209",
   "metadata": {},
   "source": [
    "# 13.  If you had a function named bacon() inside a module named spam, how would you call it after importing spam?"
   ]
  },
  {
   "cell_type": "code",
   "execution_count": null,
   "id": "ed4b43d6",
   "metadata": {},
   "outputs": [],
   "source": [
    "# module. function \n",
    "spam.bacon()"
   ]
  }
 ],
 "metadata": {
  "kernelspec": {
   "display_name": "Python 3 (ipykernel)",
   "language": "python",
   "name": "python3"
  },
  "language_info": {
   "codemirror_mode": {
    "name": "ipython",
    "version": 3
   },
   "file_extension": ".py",
   "mimetype": "text/x-python",
   "name": "python",
   "nbconvert_exporter": "python",
   "pygments_lexer": "ipython3",
   "version": "3.9.7"
  }
 },
 "nbformat": 4,
 "nbformat_minor": 5
}
