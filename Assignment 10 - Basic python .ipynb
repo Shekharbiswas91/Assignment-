{
 "cells": [
  {
   "cell_type": "markdown",
   "id": "5fb7b1fe",
   "metadata": {},
   "source": [
    "# 1. How do you distinguish between shutil.copy() and shutil.copytree()?"
   ]
  },
  {
   "cell_type": "code",
   "execution_count": null,
   "id": "4fd22cd8",
   "metadata": {},
   "outputs": [],
   "source": [
    "The shutil.copy() function will copy a single file, while\n",
    "shutil.copytree() will copy an entire folder,\n",
    "along with all its contents."
   ]
  },
  {
   "cell_type": "markdown",
   "id": "625681a0",
   "metadata": {},
   "source": [
    "# 2. What function is used to rename files??"
   ]
  },
  {
   "cell_type": "code",
   "execution_count": null,
   "id": "2de90171",
   "metadata": {},
   "outputs": [],
   "source": [
    "The shutil.move() function is used for renaming files, as well as moving them"
   ]
  },
  {
   "cell_type": "markdown",
   "id": "3502578b",
   "metadata": {},
   "source": [
    "# 3. What is the difference between the delete functions in the send2trash and shutil modules?"
   ]
  },
  {
   "cell_type": "code",
   "execution_count": null,
   "id": "2bb53710",
   "metadata": {},
   "outputs": [],
   "source": [
    "The send2trash functions will move a file or folder to the recycle bin, \n",
    "while shutil functions will permanently delete files and folders."
   ]
  },
  {
   "cell_type": "markdown",
   "id": "92916e9e",
   "metadata": {},
   "source": [
    "# 4.ZipFile objects have a close() method just like File objects’ close() method. What ZipFile method is equivalent to File objects’ open() method?"
   ]
  },
  {
   "cell_type": "code",
   "execution_count": null,
   "id": "1f34a780",
   "metadata": {},
   "outputs": [],
   "source": [
    "The zipfile.ZipFile() function is equivalent to the open() function; \n",
    "the first argument is the filename, and the second argument is the \n",
    "mode to open the ZIP file in (read, write, or append)."
   ]
  },
  {
   "cell_type": "markdown",
   "id": "5045f808",
   "metadata": {},
   "source": [
    "# 5. Create a programme that searches a folder tree for files with a certain file extension (such as .pdf or .jpg). Copy these files from whatever location they are in to a new folder."
   ]
  },
  {
   "cell_type": "code",
   "execution_count": null,
   "id": "8a438b96",
   "metadata": {},
   "outputs": [],
   "source": [
    "import os, shutil\n",
    "\n",
    "sourcePath = input(‘Enter the absolute path of the source folder: ‘)\n",
    " fileExtType = input(‘Enter the type of file to copy (such as .pdf or .jpg): ‘).lower()\n",
    " destPath = input(‘Enter the absolute path of the destination folder: ‘)\n",
    "\n",
    "for foldername, subfolders, filenames in os.walk(sourcePath):\n",
    " for filename in filenames:\n",
    " if filename.lower().endswith(fileExtType):\n",
    " #print(foldername + ‘\\\\’ + filename)\n",
    " copySourcePath = os.path.join(foldername, filename)\n",
    " #print(copySourcePath)\n",
    "shutil.copy(copySourcePath, destPath)\n",
    " else:\n",
    " continue\n",
    "\n"
   ]
  },
  {
   "cell_type": "code",
   "execution_count": null,
   "id": "81945294",
   "metadata": {},
   "outputs": [],
   "source": []
  }
 ],
 "metadata": {
  "kernelspec": {
   "display_name": "Python 3 (ipykernel)",
   "language": "python",
   "name": "python3"
  },
  "language_info": {
   "codemirror_mode": {
    "name": "ipython",
    "version": 3
   },
   "file_extension": ".py",
   "mimetype": "text/x-python",
   "name": "python",
   "nbconvert_exporter": "python",
   "pygments_lexer": "ipython3",
   "version": "3.9.7"
  }
 },
 "nbformat": 4,
 "nbformat_minor": 5
}
