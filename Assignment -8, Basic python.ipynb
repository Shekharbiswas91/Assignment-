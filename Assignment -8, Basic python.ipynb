{
 "cells": [
  {
   "cell_type": "markdown",
   "id": "d39b9792",
   "metadata": {},
   "source": [
    "## Done by Shekhar Biswas, biswassh91@gmail.com"
   ]
  },
  {
   "cell_type": "markdown",
   "id": "96b3371d",
   "metadata": {},
   "source": [
    "# 1. Is the Python Standard Library included with PyInputPlus?"
   ]
  },
  {
   "cell_type": "code",
   "execution_count": null,
   "id": "5bd2f962",
   "metadata": {},
   "outputs": [],
   "source": [
    "PyInputPlus is not a part of the Python Standard Library, we must install it separately using Pip."
   ]
  },
  {
   "cell_type": "markdown",
   "id": "c5e920b0",
   "metadata": {},
   "source": [
    "# 2. Why is PyInputPlus commonly imported with import pyinputplus as pypi?"
   ]
  },
  {
   "cell_type": "code",
   "execution_count": null,
   "id": "eb8e3ea6",
   "metadata": {},
   "outputs": [],
   "source": [
    "You can import the module with import pyinputplus as pyip \n",
    "so that you can enter a shorter name when calling the module’s functions\n"
   ]
  },
  {
   "cell_type": "markdown",
   "id": "7c4cd81e",
   "metadata": {},
   "source": [
    "# 3. How do you distinguish between inputInt() and inputFloat()?"
   ]
  },
  {
   "cell_type": "code",
   "execution_count": null,
   "id": "cd71d615",
   "metadata": {},
   "outputs": [],
   "source": [
    "The difference is in the data-type when you use the \n",
    "first one the program expects an integer value as input\n",
    "but in the latter it expects a float value i.e number\n",
    "containing a decimal"
   ]
  },
  {
   "cell_type": "markdown",
   "id": "6b748b60",
   "metadata": {},
   "source": [
    "# 4. Using PyInputPlus, how do you ensure that the user enters a whole number between 0 and 99?"
   ]
  },
  {
   "cell_type": "code",
   "execution_count": null,
   "id": "1136cd36",
   "metadata": {},
   "outputs": [],
   "source": [
    "By using pyip.inputint(min=0, max=99)"
   ]
  },
  {
   "cell_type": "markdown",
   "id": "d2c91b22",
   "metadata": {},
   "source": [
    "# 5. What is transferred to the keyword arguments allowRegexes and blockRegexes?"
   ]
  },
  {
   "cell_type": "code",
   "execution_count": null,
   "id": "bf9dd4ff",
   "metadata": {},
   "outputs": [],
   "source": [
    "A list of regex strings that are either explicitly allowed or denied"
   ]
  },
  {
   "cell_type": "markdown",
   "id": "934f7312",
   "metadata": {},
   "source": [
    "# 6. If a blank input is entered three times, what does inputStr(limit=3) do?"
   ]
  },
  {
   "cell_type": "code",
   "execution_count": null,
   "id": "5c33ae43",
   "metadata": {},
   "outputs": [],
   "source": [
    "The function will raise RetryLimitException."
   ]
  },
  {
   "cell_type": "markdown",
   "id": "ca1df520",
   "metadata": {},
   "source": [
    "# 7. If blank input is entered three times, what does inputStr(limit=3, default='hello') do?"
   ]
  },
  {
   "cell_type": "code",
   "execution_count": null,
   "id": "db1c3938",
   "metadata": {},
   "outputs": [],
   "source": [
    "The function returns the value 'hello'"
   ]
  },
  {
   "cell_type": "code",
   "execution_count": null,
   "id": "482c6b30",
   "metadata": {},
   "outputs": [],
   "source": []
  },
  {
   "cell_type": "code",
   "execution_count": null,
   "id": "8b9168d5",
   "metadata": {},
   "outputs": [],
   "source": []
  }
 ],
 "metadata": {
  "kernelspec": {
   "display_name": "Python 3 (ipykernel)",
   "language": "python",
   "name": "python3"
  },
  "language_info": {
   "codemirror_mode": {
    "name": "ipython",
    "version": 3
   },
   "file_extension": ".py",
   "mimetype": "text/x-python",
   "name": "python",
   "nbconvert_exporter": "python",
   "pygments_lexer": "ipython3",
   "version": "3.9.7"
  }
 },
 "nbformat": 4,
 "nbformat_minor": 5
}
